{
 "cells": [
  {
   "cell_type": "code",
   "execution_count": null,
   "metadata": {
    "colab": {
     "base_uri": "https://localhost:8080/"
    },
    "collapsed": true,
    "id": "kPdyViwPSwwX",
    "outputId": "bc0cb58c-33e6-468a-815c-e6901f6c327d"
   },
   "outputs": [
    {
     "name": "stdout",
     "output_type": "stream",
     "text": [
      "Requirement already satisfied: label-studio in /usr/local/lib/python3.10/dist-packages (1.14.0.post0)\n",
      "Requirement already satisfied: Django<4.3.0,>=4.2.13 in /usr/local/lib/python3.10/dist-packages (from label-studio) (4.2.16)\n",
      "Requirement already satisfied: appdirs>=1.4.3 in /usr/local/lib/python3.10/dist-packages (from label-studio) (1.4.4)\n",
      "Requirement already satisfied: attr==0.3.1 in /usr/local/lib/python3.10/dist-packages (from label-studio) (0.3.1)\n",
      "Requirement already satisfied: attrs>=19.2.0 in /usr/local/lib/python3.10/dist-packages (from label-studio) (24.2.0)\n",
      "Requirement already satisfied: azure-storage-blob>=12.6.0 in /usr/local/lib/python3.10/dist-packages (from label-studio) (12.24.0)\n",
      "Requirement already satisfied: bleach<5.1.0,>=5.0.0 in /usr/local/lib/python3.10/dist-packages (from label-studio) (5.0.1)\n",
      "Requirement already satisfied: boto<3.0.0,>=2.49.0 in /usr/local/lib/python3.10/dist-packages (from label-studio) (2.49.0)\n",
      "Requirement already satisfied: boto3<2.0.0,>=1.28.58 in /usr/local/lib/python3.10/dist-packages (from label-studio) (1.35.71)\n",
      "Requirement already satisfied: botocore<2.0.0,>=1.31.58 in /usr/local/lib/python3.10/dist-packages (from label-studio) (1.35.71)\n",
      "Requirement already satisfied: colorama>=0.4.4 in /usr/local/lib/python3.10/dist-packages (from label-studio) (0.4.6)\n",
      "Requirement already satisfied: defusedxml>=0.7.1 in /usr/local/lib/python3.10/dist-packages (from label-studio) (0.7.1)\n",
      "Requirement already satisfied: django-annoying==0.10.6 in /usr/local/lib/python3.10/dist-packages (from label-studio) (0.10.6)\n",
      "Requirement already satisfied: django-cors-headers==3.6.0 in /usr/local/lib/python3.10/dist-packages (from label-studio) (3.6.0)\n",
      "Requirement already satisfied: django-csp==3.7 in /usr/local/lib/python3.10/dist-packages (from label-studio) (3.7)\n",
      "Requirement already satisfied: django-debug-toolbar==3.2.1 in /usr/local/lib/python3.10/dist-packages (from label-studio) (3.2.1)\n",
      "Requirement already satisfied: django-environ==0.10.0 in /usr/local/lib/python3.10/dist-packages (from label-studio) (0.10.0)\n",
      "Requirement already satisfied: django-extensions==3.2.3 in /usr/local/lib/python3.10/dist-packages (from label-studio) (3.2.3)\n",
      "Requirement already satisfied: django-filter==2.4.0 in /usr/local/lib/python3.10/dist-packages (from label-studio) (2.4.0)\n",
      "Requirement already satisfied: django-migration-linter<6.0.0,>=5.1.0 in /usr/local/lib/python3.10/dist-packages (from label-studio) (5.1.0)\n",
      "Requirement already satisfied: django-model-utils==4.1.1 in /usr/local/lib/python3.10/dist-packages (from label-studio) (4.1.1)\n",
      "Requirement already satisfied: django-ranged-fileresponse>=0.1.2 in /usr/local/lib/python3.10/dist-packages (from label-studio) (0.1.2)\n",
      "Requirement already satisfied: django-rq==2.5.1 in /usr/local/lib/python3.10/dist-packages (from label-studio) (2.5.1)\n",
      "Requirement already satisfied: django-storages==1.12.3 in /usr/local/lib/python3.10/dist-packages (from label-studio) (1.12.3)\n",
      "Requirement already satisfied: django-user-agents==0.4.0 in /usr/local/lib/python3.10/dist-packages (from label-studio) (0.4.0)\n",
      "Requirement already satisfied: djangorestframework==3.15.2 in /usr/local/lib/python3.10/dist-packages (from label-studio) (3.15.2)\n",
      "Requirement already satisfied: drf-dynamic-fields==0.3.0 in /usr/local/lib/python3.10/dist-packages (from label-studio) (0.3.0)\n",
      "Requirement already satisfied: drf-flex-fields==0.9.5 in /usr/local/lib/python3.10/dist-packages (from label-studio) (0.9.5)\n",
      "Requirement already satisfied: drf-generators==0.3.0 in /usr/local/lib/python3.10/dist-packages (from label-studio) (0.3.0)\n",
      "Requirement already satisfied: google-cloud-logging<4.0.0,>=3.10.0 in /usr/local/lib/python3.10/dist-packages (from label-studio) (3.11.3)\n",
      "Requirement already satisfied: google-cloud-storage<3.0.0,>=2.13.0 in /usr/local/lib/python3.10/dist-packages (from label-studio) (2.18.2)\n",
      "Requirement already satisfied: humansignal-drf-yasg>=1.21.10.post1 in /usr/local/lib/python3.10/dist-packages (from label-studio) (1.21.10.post1)\n",
      "Requirement already satisfied: label-studio-sdk==1.0.7 in /usr/local/lib/python3.10/dist-packages (from label-studio) (1.0.7)\n",
      "Requirement already satisfied: launchdarkly-server-sdk==8.2.1 in /usr/local/lib/python3.10/dist-packages (from label-studio) (8.2.1)\n",
      "Requirement already satisfied: lockfile>=0.12.0 in /usr/local/lib/python3.10/dist-packages (from label-studio) (0.12.2)\n",
      "Requirement already satisfied: lxml>=4.9.4 in /usr/local/lib/python3.10/dist-packages (from lxml[html-clean]>=4.9.4->label-studio) (5.3.0)\n",
      "Requirement already satisfied: numpy<2.0.0,>=1.26.4 in /usr/local/lib/python3.10/dist-packages (from label-studio) (1.26.4)\n",
      "Requirement already satisfied: openai<2.0.0,>=1.10.0 in /usr/local/lib/python3.10/dist-packages (from label-studio) (1.54.4)\n",
      "Requirement already satisfied: ordered-set==4.0.2 in /usr/local/lib/python3.10/dist-packages (from label-studio) (4.0.2)\n",
      "Requirement already satisfied: pandas>=2.2.3 in /usr/local/lib/python3.10/dist-packages (from label-studio) (2.2.3)\n",
      "Requirement already satisfied: psycopg2-binary==2.9.10 in /usr/local/lib/python3.10/dist-packages (from label-studio) (2.9.10)\n",
      "Requirement already satisfied: pyboxen>=1.3.0 in /usr/local/lib/python3.10/dist-packages (from label-studio) (1.3.0)\n",
      "Requirement already satisfied: pydantic>=2.9.2 in /usr/local/lib/python3.10/dist-packages (from label-studio) (2.9.2)\n",
      "Requirement already satisfied: python-dateutil>=2.8.1 in /usr/local/lib/python3.10/dist-packages (from label-studio) (2.8.2)\n",
      "Requirement already satisfied: python-json-logger==2.0.4 in /usr/local/lib/python3.10/dist-packages (from label-studio) (2.0.4)\n",
      "Requirement already satisfied: pytz<2023.0,>=2022.1 in /usr/local/lib/python3.10/dist-packages (from label-studio) (2022.7.1)\n",
      "Requirement already satisfied: pyyaml>=6.0.0 in /usr/local/lib/python3.10/dist-packages (from label-studio) (6.0.2)\n",
      "Requirement already satisfied: redis<4.0,>=3.5 in /usr/local/lib/python3.10/dist-packages (from label-studio) (3.5.3)\n",
      "Requirement already satisfied: requests<2.33.0,>=2.32.3 in /usr/local/lib/python3.10/dist-packages (from label-studio) (2.32.3)\n",
      "Requirement already satisfied: rq==1.10.1 in /usr/local/lib/python3.10/dist-packages (from label-studio) (1.10.1)\n",
      "Requirement already satisfied: rules==3.4 in /usr/local/lib/python3.10/dist-packages (from label-studio) (3.4)\n",
      "Requirement already satisfied: sentry-sdk>=2.16.0 in /usr/local/lib/python3.10/dist-packages (from label-studio) (2.18.0)\n",
      "Requirement already satisfied: setuptools>=75.4.0 in /usr/local/lib/python3.10/dist-packages (from label-studio) (75.6.0)\n",
      "Requirement already satisfied: ujson>=3.0.0 in /usr/local/lib/python3.10/dist-packages (from label-studio) (5.10.0)\n",
      "Requirement already satisfied: urllib3<2.0.0,>=1.26.18 in /usr/local/lib/python3.10/dist-packages (from label-studio) (1.26.20)\n",
      "Requirement already satisfied: wheel<=0.40.0,>=0.38.1 in /usr/local/lib/python3.10/dist-packages (from label-studio) (0.40.0)\n",
      "Requirement already satisfied: xmljson==0.2.1 in /usr/local/lib/python3.10/dist-packages (from label-studio) (0.2.1)\n",
      "Requirement already satisfied: six in /usr/local/lib/python3.10/dist-packages (from django-annoying==0.10.6->label-studio) (1.16.0)\n",
      "Requirement already satisfied: sqlparse>=0.2.0 in /usr/local/lib/python3.10/dist-packages (from django-debug-toolbar==3.2.1->label-studio) (0.5.2)\n",
      "Requirement already satisfied: user-agents in /usr/local/lib/python3.10/dist-packages (from django-user-agents==0.4.0->label-studio) (2.2.0)\n",
      "Requirement already satisfied: Pillow>=10.0.1 in /usr/local/lib/python3.10/dist-packages (from label-studio-sdk==1.0.7->label-studio) (11.0.0)\n",
      "Requirement already satisfied: httpx>=0.21.2 in /usr/local/lib/python3.10/dist-packages (from label-studio-sdk==1.0.7->label-studio) (0.27.2)\n",
      "Requirement already satisfied: ijson>=3.2.3 in /usr/local/lib/python3.10/dist-packages (from label-studio-sdk==1.0.7->label-studio) (3.3.0)\n",
      "Requirement already satisfied: jsonschema>=4.23.0 in /usr/local/lib/python3.10/dist-packages (from label-studio-sdk==1.0.7->label-studio) (4.23.0)\n",
      "Requirement already satisfied: nltk<4.0.0,>=3.9.1 in /usr/local/lib/python3.10/dist-packages (from label-studio-sdk==1.0.7->label-studio) (3.9.1)\n",
      "Requirement already satisfied: requests-mock==1.12.1 in /usr/local/lib/python3.10/dist-packages (from label-studio-sdk==1.0.7->label-studio) (1.12.1)\n",
      "Requirement already satisfied: typing_extensions>=4.0.0 in /usr/local/lib/python3.10/dist-packages (from label-studio-sdk==1.0.7->label-studio) (4.12.2)\n",
      "Requirement already satisfied: certifi>=2018.4.16 in /usr/local/lib/python3.10/dist-packages (from launchdarkly-server-sdk==8.2.1->label-studio) (2024.8.30)\n",
      "Requirement already satisfied: expiringdict>=1.1.4 in /usr/local/lib/python3.10/dist-packages (from launchdarkly-server-sdk==8.2.1->label-studio) (1.2.2)\n",
      "Requirement already satisfied: pyRFC3339>=1.0 in /usr/local/lib/python3.10/dist-packages (from launchdarkly-server-sdk==8.2.1->label-studio) (2.0.1)\n",
      "Requirement already satisfied: semver>=2.10.2 in /usr/local/lib/python3.10/dist-packages (from launchdarkly-server-sdk==8.2.1->label-studio) (3.0.2)\n",
      "Requirement already satisfied: click>=5.0.0 in /usr/local/lib/python3.10/dist-packages (from rq==1.10.1->label-studio) (8.1.7)\n",
      "Requirement already satisfied: azure-core>=1.30.0 in /usr/local/lib/python3.10/dist-packages (from azure-storage-blob>=12.6.0->label-studio) (1.32.0)\n",
      "Requirement already satisfied: cryptography>=2.1.4 in /usr/local/lib/python3.10/dist-packages (from azure-storage-blob>=12.6.0->label-studio) (43.0.3)\n",
      "Requirement already satisfied: isodate>=0.6.1 in /usr/local/lib/python3.10/dist-packages (from azure-storage-blob>=12.6.0->label-studio) (0.7.2)\n",
      "Requirement already satisfied: webencodings in /usr/local/lib/python3.10/dist-packages (from bleach<5.1.0,>=5.0.0->label-studio) (0.5.1)\n",
      "Requirement already satisfied: jmespath<2.0.0,>=0.7.1 in /usr/local/lib/python3.10/dist-packages (from boto3<2.0.0,>=1.28.58->label-studio) (1.0.1)\n",
      "Requirement already satisfied: s3transfer<0.11.0,>=0.10.0 in /usr/local/lib/python3.10/dist-packages (from boto3<2.0.0,>=1.28.58->label-studio) (0.10.4)\n",
      "Requirement already satisfied: asgiref<4,>=3.6.0 in /usr/local/lib/python3.10/dist-packages (from Django<4.3.0,>=4.2.13->label-studio) (3.8.1)\n",
      "Requirement already satisfied: toml>=0.10.2 in /usr/local/lib/python3.10/dist-packages (from django-migration-linter<6.0.0,>=5.1.0->label-studio) (0.10.2)\n",
      "Requirement already satisfied: google-api-core!=2.0.*,!=2.1.*,!=2.10.*,!=2.2.*,!=2.3.*,!=2.4.*,!=2.5.*,!=2.6.*,!=2.7.*,!=2.8.*,!=2.9.*,<3.0.0dev,>=1.34.1 in /usr/local/lib/python3.10/dist-packages (from google-api-core[grpc]!=2.0.*,!=2.1.*,!=2.10.*,!=2.2.*,!=2.3.*,!=2.4.*,!=2.5.*,!=2.6.*,!=2.7.*,!=2.8.*,!=2.9.*,<3.0.0dev,>=1.34.1->google-cloud-logging<4.0.0,>=3.10.0->label-studio) (2.19.2)\n",
      "Requirement already satisfied: google-auth!=2.24.0,!=2.25.0,<3.0.0dev,>=2.14.1 in /usr/local/lib/python3.10/dist-packages (from google-cloud-logging<4.0.0,>=3.10.0->label-studio) (2.27.0)\n",
      "Requirement already satisfied: google-cloud-appengine-logging<2.0.0dev,>=0.1.3 in /usr/local/lib/python3.10/dist-packages (from google-cloud-logging<4.0.0,>=3.10.0->label-studio) (1.5.0)\n",
      "Requirement already satisfied: google-cloud-audit-log<1.0.0dev,>=0.2.4 in /usr/local/lib/python3.10/dist-packages (from google-cloud-logging<4.0.0,>=3.10.0->label-studio) (0.3.0)\n",
      "Requirement already satisfied: google-cloud-core<3.0.0dev,>=2.0.0 in /usr/local/lib/python3.10/dist-packages (from google-cloud-logging<4.0.0,>=3.10.0->label-studio) (2.4.1)\n",
      "Requirement already satisfied: grpc-google-iam-v1<1.0.0dev,>=0.12.4 in /usr/local/lib/python3.10/dist-packages (from google-cloud-logging<4.0.0,>=3.10.0->label-studio) (0.13.1)\n",
      "Requirement already satisfied: opentelemetry-api>=1.9.0 in /usr/local/lib/python3.10/dist-packages (from google-cloud-logging<4.0.0,>=3.10.0->label-studio) (1.28.2)\n",
      "Requirement already satisfied: proto-plus<2.0.0dev,>=1.22.0 in /usr/local/lib/python3.10/dist-packages (from google-cloud-logging<4.0.0,>=3.10.0->label-studio) (1.25.0)\n",
      "Requirement already satisfied: protobuf!=4.21.0,!=4.21.1,!=4.21.2,!=4.21.3,!=4.21.4,!=4.21.5,<6.0.0dev,>=3.20.2 in /usr/local/lib/python3.10/dist-packages (from google-cloud-logging<4.0.0,>=3.10.0->label-studio) (4.25.5)\n",
      "Requirement already satisfied: google-resumable-media>=2.7.2 in /usr/local/lib/python3.10/dist-packages (from google-cloud-storage<3.0.0,>=2.13.0->label-studio) (2.7.2)\n",
      "Requirement already satisfied: google-crc32c<2.0dev,>=1.0 in /usr/local/lib/python3.10/dist-packages (from google-cloud-storage<3.0.0,>=2.13.0->label-studio) (1.6.0)\n",
      "Requirement already satisfied: inflection>=0.3.1 in /usr/local/lib/python3.10/dist-packages (from humansignal-drf-yasg>=1.21.10.post1->label-studio) (0.5.1)\n",
      "Requirement already satisfied: packaging>=21.0 in /usr/local/lib/python3.10/dist-packages (from humansignal-drf-yasg>=1.21.10.post1->label-studio) (24.2)\n",
      "Requirement already satisfied: uritemplate>=3.0.0 in /usr/local/lib/python3.10/dist-packages (from humansignal-drf-yasg>=1.21.10.post1->label-studio) (4.1.1)\n",
      "Requirement already satisfied: lxml-html-clean in /usr/local/lib/python3.10/dist-packages (from lxml[html-clean]>=4.9.4->label-studio) (0.4.1)\n",
      "Requirement already satisfied: anyio<5,>=3.5.0 in /usr/local/lib/python3.10/dist-packages (from openai<2.0.0,>=1.10.0->label-studio) (3.7.1)\n",
      "Requirement already satisfied: distro<2,>=1.7.0 in /usr/local/lib/python3.10/dist-packages (from openai<2.0.0,>=1.10.0->label-studio) (1.9.0)\n",
      "Requirement already satisfied: jiter<1,>=0.4.0 in /usr/local/lib/python3.10/dist-packages (from openai<2.0.0,>=1.10.0->label-studio) (0.7.1)\n",
      "Requirement already satisfied: sniffio in /usr/local/lib/python3.10/dist-packages (from openai<2.0.0,>=1.10.0->label-studio) (1.3.1)\n",
      "Requirement already satisfied: tqdm>4 in /usr/local/lib/python3.10/dist-packages (from openai<2.0.0,>=1.10.0->label-studio) (4.66.6)\n",
      "Requirement already satisfied: tzdata>=2022.7 in /usr/local/lib/python3.10/dist-packages (from pandas>=2.2.3->label-studio) (2024.2)\n",
      "Requirement already satisfied: rich>=12.5.1 in /usr/local/lib/python3.10/dist-packages (from pyboxen>=1.3.0->label-studio) (13.9.4)\n",
      "Requirement already satisfied: annotated-types>=0.6.0 in /usr/local/lib/python3.10/dist-packages (from pydantic>=2.9.2->label-studio) (0.7.0)\n",
      "Requirement already satisfied: pydantic-core==2.23.4 in /usr/local/lib/python3.10/dist-packages (from pydantic>=2.9.2->label-studio) (2.23.4)\n",
      "Requirement already satisfied: charset-normalizer<4,>=2 in /usr/local/lib/python3.10/dist-packages (from requests<2.33.0,>=2.32.3->label-studio) (3.4.0)\n",
      "Requirement already satisfied: idna<4,>=2.5 in /usr/local/lib/python3.10/dist-packages (from requests<2.33.0,>=2.32.3->label-studio) (3.10)\n",
      "Requirement already satisfied: exceptiongroup in /usr/local/lib/python3.10/dist-packages (from anyio<5,>=3.5.0->openai<2.0.0,>=1.10.0->label-studio) (1.2.2)\n",
      "Requirement already satisfied: cffi>=1.12 in /usr/local/lib/python3.10/dist-packages (from cryptography>=2.1.4->azure-storage-blob>=12.6.0->label-studio) (1.17.1)\n",
      "Requirement already satisfied: googleapis-common-protos<2.0.dev0,>=1.56.2 in /usr/local/lib/python3.10/dist-packages (from google-api-core!=2.0.*,!=2.1.*,!=2.10.*,!=2.2.*,!=2.3.*,!=2.4.*,!=2.5.*,!=2.6.*,!=2.7.*,!=2.8.*,!=2.9.*,<3.0.0dev,>=1.34.1->google-api-core[grpc]!=2.0.*,!=2.1.*,!=2.10.*,!=2.2.*,!=2.3.*,!=2.4.*,!=2.5.*,!=2.6.*,!=2.7.*,!=2.8.*,!=2.9.*,<3.0.0dev,>=1.34.1->google-cloud-logging<4.0.0,>=3.10.0->label-studio) (1.66.0)\n",
      "Requirement already satisfied: grpcio<2.0dev,>=1.33.2 in /usr/local/lib/python3.10/dist-packages (from google-api-core[grpc]!=2.0.*,!=2.1.*,!=2.10.*,!=2.2.*,!=2.3.*,!=2.4.*,!=2.5.*,!=2.6.*,!=2.7.*,!=2.8.*,!=2.9.*,<3.0.0dev,>=1.34.1->google-cloud-logging<4.0.0,>=3.10.0->label-studio) (1.68.0)\n",
      "Requirement already satisfied: grpcio-status<2.0.dev0,>=1.33.2 in /usr/local/lib/python3.10/dist-packages (from google-api-core[grpc]!=2.0.*,!=2.1.*,!=2.10.*,!=2.2.*,!=2.3.*,!=2.4.*,!=2.5.*,!=2.6.*,!=2.7.*,!=2.8.*,!=2.9.*,<3.0.0dev,>=1.34.1->google-cloud-logging<4.0.0,>=3.10.0->label-studio) (1.62.3)\n",
      "Requirement already satisfied: cachetools<6.0,>=2.0.0 in /usr/local/lib/python3.10/dist-packages (from google-auth!=2.24.0,!=2.25.0,<3.0.0dev,>=2.14.1->google-cloud-logging<4.0.0,>=3.10.0->label-studio) (5.5.0)\n",
      "Requirement already satisfied: pyasn1-modules>=0.2.1 in /usr/local/lib/python3.10/dist-packages (from google-auth!=2.24.0,!=2.25.0,<3.0.0dev,>=2.14.1->google-cloud-logging<4.0.0,>=3.10.0->label-studio) (0.4.1)\n",
      "Requirement already satisfied: rsa<5,>=3.1.4 in /usr/local/lib/python3.10/dist-packages (from google-auth!=2.24.0,!=2.25.0,<3.0.0dev,>=2.14.1->google-cloud-logging<4.0.0,>=3.10.0->label-studio) (4.9)\n",
      "Requirement already satisfied: httpcore==1.* in /usr/local/lib/python3.10/dist-packages (from httpx>=0.21.2->label-studio-sdk==1.0.7->label-studio) (1.0.7)\n",
      "Requirement already satisfied: h11<0.15,>=0.13 in /usr/local/lib/python3.10/dist-packages (from httpcore==1.*->httpx>=0.21.2->label-studio-sdk==1.0.7->label-studio) (0.14.0)\n",
      "Requirement already satisfied: jsonschema-specifications>=2023.03.6 in /usr/local/lib/python3.10/dist-packages (from jsonschema>=4.23.0->label-studio-sdk==1.0.7->label-studio) (2024.10.1)\n",
      "Requirement already satisfied: referencing>=0.28.4 in /usr/local/lib/python3.10/dist-packages (from jsonschema>=4.23.0->label-studio-sdk==1.0.7->label-studio) (0.35.1)\n",
      "Requirement already satisfied: rpds-py>=0.7.1 in /usr/local/lib/python3.10/dist-packages (from jsonschema>=4.23.0->label-studio-sdk==1.0.7->label-studio) (0.21.0)\n",
      "Requirement already satisfied: joblib in /usr/local/lib/python3.10/dist-packages (from nltk<4.0.0,>=3.9.1->label-studio-sdk==1.0.7->label-studio) (1.4.2)\n",
      "Requirement already satisfied: regex>=2021.8.3 in /usr/local/lib/python3.10/dist-packages (from nltk<4.0.0,>=3.9.1->label-studio-sdk==1.0.7->label-studio) (2024.9.11)\n",
      "Requirement already satisfied: deprecated>=1.2.6 in /usr/local/lib/python3.10/dist-packages (from opentelemetry-api>=1.9.0->google-cloud-logging<4.0.0,>=3.10.0->label-studio) (1.2.15)\n",
      "Requirement already satisfied: importlib-metadata<=8.5.0,>=6.0 in /usr/local/lib/python3.10/dist-packages (from opentelemetry-api>=1.9.0->google-cloud-logging<4.0.0,>=3.10.0->label-studio) (8.5.0)\n",
      "Requirement already satisfied: markdown-it-py>=2.2.0 in /usr/local/lib/python3.10/dist-packages (from rich>=12.5.1->pyboxen>=1.3.0->label-studio) (3.0.0)\n",
      "Requirement already satisfied: pygments<3.0.0,>=2.13.0 in /usr/local/lib/python3.10/dist-packages (from rich>=12.5.1->pyboxen>=1.3.0->label-studio) (2.18.0)\n",
      "Requirement already satisfied: ua-parser>=0.10.0 in /usr/local/lib/python3.10/dist-packages (from user-agents->django-user-agents==0.4.0->label-studio) (1.0.0)\n",
      "Requirement already satisfied: pycparser in /usr/local/lib/python3.10/dist-packages (from cffi>=1.12->cryptography>=2.1.4->azure-storage-blob>=12.6.0->label-studio) (2.22)\n",
      "Requirement already satisfied: wrapt<2,>=1.10 in /usr/local/lib/python3.10/dist-packages (from deprecated>=1.2.6->opentelemetry-api>=1.9.0->google-cloud-logging<4.0.0,>=3.10.0->label-studio) (1.16.0)\n",
      "Requirement already satisfied: zipp>=3.20 in /usr/local/lib/python3.10/dist-packages (from importlib-metadata<=8.5.0,>=6.0->opentelemetry-api>=1.9.0->google-cloud-logging<4.0.0,>=3.10.0->label-studio) (3.21.0)\n",
      "Requirement already satisfied: mdurl~=0.1 in /usr/local/lib/python3.10/dist-packages (from markdown-it-py>=2.2.0->rich>=12.5.1->pyboxen>=1.3.0->label-studio) (0.1.2)\n",
      "Requirement already satisfied: pyasn1<0.7.0,>=0.4.6 in /usr/local/lib/python3.10/dist-packages (from pyasn1-modules>=0.2.1->google-auth!=2.24.0,!=2.25.0,<3.0.0dev,>=2.14.1->google-cloud-logging<4.0.0,>=3.10.0->label-studio) (0.6.1)\n",
      "Requirement already satisfied: ua-parser-builtins in /usr/local/lib/python3.10/dist-packages (from ua-parser>=0.10.0->user-agents->django-user-agents==0.4.0->label-studio) (0.18.0)\n"
     ]
    }
   ],
   "source": [
    "!pip install label-studio"
   ]
  },
  {
   "cell_type": "code",
   "execution_count": null,
   "metadata": {
    "colab": {
     "base_uri": "https://localhost:8080/"
    },
    "id": "WaZZpmVFWnSf",
    "outputId": "2c85a6c9-364f-4a3b-8a07-32517ef3a7d7"
   },
   "outputs": [
    {
     "name": "stdout",
     "output_type": "stream",
     "text": [
      "CUDA available: True\n"
     ]
    }
   ],
   "source": [
    "import torch\n",
    "print(\"CUDA available:\", torch.cuda.is_available())"
   ]
  },
  {
   "cell_type": "code",
   "execution_count": null,
   "metadata": {
    "colab": {
     "base_uri": "https://localhost:8080/"
    },
    "id": "C_Gis84Sx2c4",
    "outputId": "dc563de1-e336-40b3-cbeb-0f87eef41875"
   },
   "outputs": [
    {
     "name": "stdout",
     "output_type": "stream",
     "text": [
      "/content\n"
     ]
    }
   ],
   "source": [
    "!pwd"
   ]
  },
  {
   "cell_type": "code",
   "execution_count": null,
   "metadata": {
    "id": "KiBainlNL2kC"
   },
   "outputs": [],
   "source": [
    "# This is just an example of one of the methods for uploading files\n",
    "from google.colab import files\n",
    "uploaded = files.upload()"
   ]
  },
  {
   "cell_type": "markdown",
   "metadata": {
    "id": "czEFzGe5Os80"
   },
   "source": [
    "### Notes On Using Local Files/Folders and Whatnot\n",
    "- Could make whatever you need into a .zip file and then upload that as described.\n",
    "\n",
    "- Or could use other methods described.\n",
    "\n",
    "- As far as the .py file goes, you could maybe just do that here, or maybe still just use the local file or something, we'll see.\n",
    "\n",
    "- You could do the .zip file and could just copy and paste .py file stuff\n",
    "\n",
    "### On ultralytics\n",
    "- Might Need to install it here or something. So maybe go back earlier in the video and see how he did that.\n",
    "- Because from ultralytics import YOLO says that ultralytics can't be resolved lol."
   ]
  },
  {
   "cell_type": "code",
   "execution_count": null,
   "metadata": {
    "id": "G0ZQGyElP1PU"
   },
   "outputs": [],
   "source": [
    "# To upload zip file\n",
    "from google.colab import files\n",
    "uploaded = files.upload()\n",
    "\n",
    "import os\n",
    "\n",
    "# Unzip the uploaded file\n",
    "for filename in uploaded.keys():\n",
    "    os.system(f'unzip -q {filename} -d /content/')"
   ]
  },
  {
   "cell_type": "code",
   "execution_count": null,
   "metadata": {
    "colab": {
     "base_uri": "https://localhost:8080/"
    },
    "id": "sXTL9J1L7I43",
    "outputId": "57e2f71a-6bec-48f7-c3ad-99c05a76ea02"
   },
   "outputs": [
    {
     "name": "stdout",
     "output_type": "stream",
     "text": [
      "Drive already mounted at /content/drive; to attempt to forcibly remount, call drive.mount(\"/content/drive\", force_remount=True).\n"
     ]
    }
   ],
   "source": [
    "# This cell is for finding my files in the computers section of My Drive\n",
    "from google.colab import drive\n",
    "drive.mount('/content/drive')\n",
    "\n",
    "# !ls /content/drive/.shortcut-targets-by-id/"
   ]
  },
  {
   "cell_type": "code",
   "execution_count": null,
   "metadata": {
    "collapsed": true,
    "id": "RtK0UA8e7zUL"
   },
   "outputs": [],
   "source": [
    "!ls /content/drive/Othercomputers/\"My PC\"/Docs/CEN3907C/Capstone-Project/OpenCV/YOLOv11_custom\n",
    "!ls /content/drive/MyDrive/YOLOv11_custom"
   ]
  },
  {
   "cell_type": "code",
   "execution_count": null,
   "metadata": {
    "collapsed": true,
    "id": "w9oW-FNI-evj"
   },
   "outputs": [],
   "source": [
    "!pip install ultralytics"
   ]
  },
  {
   "cell_type": "code",
   "execution_count": null,
   "metadata": {
    "id": "yp8KmhYx9c1O"
   },
   "outputs": [],
   "source": [
    "# This cell is for actually trying to do train.py\n",
    "from ultralytics import YOLO\n",
    "from google.colab import drive\n",
    "drive.mount('/content/drive')\n",
    "\n",
    "modelPath = \"/content/drive/MyDrive/YOLOv11_custom/yolo11m.pt\"\n",
    "model = YOLO(modelPath)\n",
    "\n",
    "datasetPath = \"/content/drive/MyDrive/YOLOv11_custom/dataset_custom.yaml\"\n",
    "model.train(data = datasetPath, imgsz = 640, batch = 8, epochs = 100, workers = 0, device=0)\n",
    "\n"
   ]
  },
  {
   "cell_type": "code",
   "execution_count": null,
   "metadata": {
    "colab": {
     "base_uri": "https://localhost:8080/",
     "height": 415
    },
    "collapsed": true,
    "id": "ra5SZUJ0KAq6",
    "outputId": "67b81094-1143-49b3-fa0e-21d19bff5451"
   },
   "outputs": [
    {
     "name": "stdout",
     "output_type": "stream",
     "text": [
      "WARNING ⚠️ Environment does not support cv2.imshow() or PIL Image.show()\n",
      "\n",
      "\n"
     ]
    },
    {
     "ename": "NotImplementedError",
     "evalue": "'source=0' webcam not supported in Colab and Kaggle notebooks. Try running 'source=0' in a local environment.",
     "output_type": "error",
     "traceback": [
      "\u001b[0;31m---------------------------------------------------------------------------\u001b[0m",
      "\u001b[0;31mNotImplementedError\u001b[0m                       Traceback (most recent call last)",
      "\u001b[0;32m<ipython-input-31-187b25a2664f>\u001b[0m in \u001b[0;36m<cell line: 3>\u001b[0;34m()\u001b[0m\n\u001b[1;32m      1\u001b[0m \u001b[0;31m# All predictions w/ a confidence below 0.6 will be discarded\u001b[0m\u001b[0;34m\u001b[0m\u001b[0;34m\u001b[0m\u001b[0m\n\u001b[1;32m      2\u001b[0m \u001b[0mmodel0\u001b[0m \u001b[0;34m=\u001b[0m \u001b[0mYOLO\u001b[0m\u001b[0;34m(\u001b[0m\u001b[0;34m\"/content/drive/MyDrive/YOLOv11_custom/yolov11_custom.pt\"\u001b[0m\u001b[0;34m)\u001b[0m\u001b[0;34m\u001b[0m\u001b[0;34m\u001b[0m\u001b[0m\n\u001b[0;32m----> 3\u001b[0;31m model0.predict(source = \"0\", show=True, save=True, conf=0.7, line_width=2,\n\u001b[0m\u001b[1;32m      4\u001b[0m                save_crop = False, save_txt = False, show_labels = True, show_conf = True, classes=[0])\n\u001b[1;32m      5\u001b[0m \u001b[0;34m\u001b[0m\u001b[0m\n",
      "\u001b[0;32m/usr/local/lib/python3.10/dist-packages/ultralytics/engine/model.py\u001b[0m in \u001b[0;36mpredict\u001b[0;34m(self, source, stream, predictor, **kwargs)\u001b[0m\n\u001b[1;32m    555\u001b[0m         \u001b[0;32mif\u001b[0m \u001b[0mprompts\u001b[0m \u001b[0;32mand\u001b[0m \u001b[0mhasattr\u001b[0m\u001b[0;34m(\u001b[0m\u001b[0mself\u001b[0m\u001b[0;34m.\u001b[0m\u001b[0mpredictor\u001b[0m\u001b[0;34m,\u001b[0m \u001b[0;34m\"set_prompts\"\u001b[0m\u001b[0;34m)\u001b[0m\u001b[0;34m:\u001b[0m  \u001b[0;31m# for SAM-type models\u001b[0m\u001b[0;34m\u001b[0m\u001b[0;34m\u001b[0m\u001b[0m\n\u001b[1;32m    556\u001b[0m             \u001b[0mself\u001b[0m\u001b[0;34m.\u001b[0m\u001b[0mpredictor\u001b[0m\u001b[0;34m.\u001b[0m\u001b[0mset_prompts\u001b[0m\u001b[0;34m(\u001b[0m\u001b[0mprompts\u001b[0m\u001b[0;34m)\u001b[0m\u001b[0;34m\u001b[0m\u001b[0;34m\u001b[0m\u001b[0m\n\u001b[0;32m--> 557\u001b[0;31m         \u001b[0;32mreturn\u001b[0m \u001b[0mself\u001b[0m\u001b[0;34m.\u001b[0m\u001b[0mpredictor\u001b[0m\u001b[0;34m.\u001b[0m\u001b[0mpredict_cli\u001b[0m\u001b[0;34m(\u001b[0m\u001b[0msource\u001b[0m\u001b[0;34m=\u001b[0m\u001b[0msource\u001b[0m\u001b[0;34m)\u001b[0m \u001b[0;32mif\u001b[0m \u001b[0mis_cli\u001b[0m \u001b[0;32melse\u001b[0m \u001b[0mself\u001b[0m\u001b[0;34m.\u001b[0m\u001b[0mpredictor\u001b[0m\u001b[0;34m(\u001b[0m\u001b[0msource\u001b[0m\u001b[0;34m=\u001b[0m\u001b[0msource\u001b[0m\u001b[0;34m,\u001b[0m \u001b[0mstream\u001b[0m\u001b[0;34m=\u001b[0m\u001b[0mstream\u001b[0m\u001b[0;34m)\u001b[0m\u001b[0;34m\u001b[0m\u001b[0;34m\u001b[0m\u001b[0m\n\u001b[0m\u001b[1;32m    558\u001b[0m \u001b[0;34m\u001b[0m\u001b[0m\n\u001b[1;32m    559\u001b[0m     def track(\n",
      "\u001b[0;32m/usr/local/lib/python3.10/dist-packages/ultralytics/engine/predictor.py\u001b[0m in \u001b[0;36m__call__\u001b[0;34m(self, source, model, stream, *args, **kwargs)\u001b[0m\n\u001b[1;32m    171\u001b[0m             \u001b[0;32mreturn\u001b[0m \u001b[0mself\u001b[0m\u001b[0;34m.\u001b[0m\u001b[0mstream_inference\u001b[0m\u001b[0;34m(\u001b[0m\u001b[0msource\u001b[0m\u001b[0;34m,\u001b[0m \u001b[0mmodel\u001b[0m\u001b[0;34m,\u001b[0m \u001b[0;34m*\u001b[0m\u001b[0margs\u001b[0m\u001b[0;34m,\u001b[0m \u001b[0;34m**\u001b[0m\u001b[0mkwargs\u001b[0m\u001b[0;34m)\u001b[0m\u001b[0;34m\u001b[0m\u001b[0;34m\u001b[0m\u001b[0m\n\u001b[1;32m    172\u001b[0m         \u001b[0;32melse\u001b[0m\u001b[0;34m:\u001b[0m\u001b[0;34m\u001b[0m\u001b[0;34m\u001b[0m\u001b[0m\n\u001b[0;32m--> 173\u001b[0;31m             \u001b[0;32mreturn\u001b[0m \u001b[0mlist\u001b[0m\u001b[0;34m(\u001b[0m\u001b[0mself\u001b[0m\u001b[0;34m.\u001b[0m\u001b[0mstream_inference\u001b[0m\u001b[0;34m(\u001b[0m\u001b[0msource\u001b[0m\u001b[0;34m,\u001b[0m \u001b[0mmodel\u001b[0m\u001b[0;34m,\u001b[0m \u001b[0;34m*\u001b[0m\u001b[0margs\u001b[0m\u001b[0;34m,\u001b[0m \u001b[0;34m**\u001b[0m\u001b[0mkwargs\u001b[0m\u001b[0;34m)\u001b[0m\u001b[0;34m)\u001b[0m  \u001b[0;31m# merge list of Result into one\u001b[0m\u001b[0;34m\u001b[0m\u001b[0;34m\u001b[0m\u001b[0m\n\u001b[0m\u001b[1;32m    174\u001b[0m \u001b[0;34m\u001b[0m\u001b[0m\n\u001b[1;32m    175\u001b[0m     \u001b[0;32mdef\u001b[0m \u001b[0mpredict_cli\u001b[0m\u001b[0;34m(\u001b[0m\u001b[0mself\u001b[0m\u001b[0;34m,\u001b[0m \u001b[0msource\u001b[0m\u001b[0;34m=\u001b[0m\u001b[0;32mNone\u001b[0m\u001b[0;34m,\u001b[0m \u001b[0mmodel\u001b[0m\u001b[0;34m=\u001b[0m\u001b[0;32mNone\u001b[0m\u001b[0;34m)\u001b[0m\u001b[0;34m:\u001b[0m\u001b[0;34m\u001b[0m\u001b[0;34m\u001b[0m\u001b[0m\n",
      "\u001b[0;32m/usr/local/lib/python3.10/dist-packages/torch/utils/_contextlib.py\u001b[0m in \u001b[0;36mgenerator_context\u001b[0;34m(*args, **kwargs)\u001b[0m\n\u001b[1;32m     34\u001b[0m             \u001b[0;31m# Issuing `None` to a generator fires it up\u001b[0m\u001b[0;34m\u001b[0m\u001b[0;34m\u001b[0m\u001b[0m\n\u001b[1;32m     35\u001b[0m             \u001b[0;32mwith\u001b[0m \u001b[0mctx_factory\u001b[0m\u001b[0;34m(\u001b[0m\u001b[0;34m)\u001b[0m\u001b[0;34m:\u001b[0m\u001b[0;34m\u001b[0m\u001b[0;34m\u001b[0m\u001b[0m\n\u001b[0;32m---> 36\u001b[0;31m                 \u001b[0mresponse\u001b[0m \u001b[0;34m=\u001b[0m \u001b[0mgen\u001b[0m\u001b[0;34m.\u001b[0m\u001b[0msend\u001b[0m\u001b[0;34m(\u001b[0m\u001b[0;32mNone\u001b[0m\u001b[0;34m)\u001b[0m\u001b[0;34m\u001b[0m\u001b[0;34m\u001b[0m\u001b[0m\n\u001b[0m\u001b[1;32m     37\u001b[0m \u001b[0;34m\u001b[0m\u001b[0m\n\u001b[1;32m     38\u001b[0m             \u001b[0;32mwhile\u001b[0m \u001b[0;32mTrue\u001b[0m\u001b[0;34m:\u001b[0m\u001b[0;34m\u001b[0m\u001b[0;34m\u001b[0m\u001b[0m\n",
      "\u001b[0;32m/usr/local/lib/python3.10/dist-packages/ultralytics/engine/predictor.py\u001b[0m in \u001b[0;36mstream_inference\u001b[0;34m(self, source, model, *args, **kwargs)\u001b[0m\n\u001b[1;32m    229\u001b[0m         \u001b[0;32mwith\u001b[0m \u001b[0mself\u001b[0m\u001b[0;34m.\u001b[0m\u001b[0m_lock\u001b[0m\u001b[0;34m:\u001b[0m  \u001b[0;31m# for thread-safe inference\u001b[0m\u001b[0;34m\u001b[0m\u001b[0;34m\u001b[0m\u001b[0m\n\u001b[1;32m    230\u001b[0m             \u001b[0;31m# Setup source every time predict is called\u001b[0m\u001b[0;34m\u001b[0m\u001b[0;34m\u001b[0m\u001b[0m\n\u001b[0;32m--> 231\u001b[0;31m             \u001b[0mself\u001b[0m\u001b[0;34m.\u001b[0m\u001b[0msetup_source\u001b[0m\u001b[0;34m(\u001b[0m\u001b[0msource\u001b[0m \u001b[0;32mif\u001b[0m \u001b[0msource\u001b[0m \u001b[0;32mis\u001b[0m \u001b[0;32mnot\u001b[0m \u001b[0;32mNone\u001b[0m \u001b[0;32melse\u001b[0m \u001b[0mself\u001b[0m\u001b[0;34m.\u001b[0m\u001b[0margs\u001b[0m\u001b[0;34m.\u001b[0m\u001b[0msource\u001b[0m\u001b[0;34m)\u001b[0m\u001b[0;34m\u001b[0m\u001b[0;34m\u001b[0m\u001b[0m\n\u001b[0m\u001b[1;32m    232\u001b[0m \u001b[0;34m\u001b[0m\u001b[0m\n\u001b[1;32m    233\u001b[0m             \u001b[0;31m# Check if save_dir/ label file exists\u001b[0m\u001b[0;34m\u001b[0m\u001b[0;34m\u001b[0m\u001b[0m\n",
      "\u001b[0;32m/usr/local/lib/python3.10/dist-packages/ultralytics/engine/predictor.py\u001b[0m in \u001b[0;36msetup_source\u001b[0;34m(self, source)\u001b[0m\n\u001b[1;32m    201\u001b[0m             \u001b[0;32melse\u001b[0m \u001b[0;32mNone\u001b[0m\u001b[0;34m\u001b[0m\u001b[0;34m\u001b[0m\u001b[0m\n\u001b[1;32m    202\u001b[0m         )\n\u001b[0;32m--> 203\u001b[0;31m         self.dataset = load_inference_source(\n\u001b[0m\u001b[1;32m    204\u001b[0m             \u001b[0msource\u001b[0m\u001b[0;34m=\u001b[0m\u001b[0msource\u001b[0m\u001b[0;34m,\u001b[0m\u001b[0;34m\u001b[0m\u001b[0;34m\u001b[0m\u001b[0m\n\u001b[1;32m    205\u001b[0m             \u001b[0mbatch\u001b[0m\u001b[0;34m=\u001b[0m\u001b[0mself\u001b[0m\u001b[0;34m.\u001b[0m\u001b[0margs\u001b[0m\u001b[0;34m.\u001b[0m\u001b[0mbatch\u001b[0m\u001b[0;34m,\u001b[0m\u001b[0;34m\u001b[0m\u001b[0;34m\u001b[0m\u001b[0m\n",
      "\u001b[0;32m/usr/local/lib/python3.10/dist-packages/ultralytics/data/build.py\u001b[0m in \u001b[0;36mload_inference_source\u001b[0;34m(source, batch, vid_stride, buffer)\u001b[0m\n\u001b[1;32m    194\u001b[0m         \u001b[0mdataset\u001b[0m \u001b[0;34m=\u001b[0m \u001b[0msource\u001b[0m\u001b[0;34m\u001b[0m\u001b[0;34m\u001b[0m\u001b[0m\n\u001b[1;32m    195\u001b[0m     \u001b[0;32melif\u001b[0m \u001b[0mstream\u001b[0m\u001b[0;34m:\u001b[0m\u001b[0;34m\u001b[0m\u001b[0;34m\u001b[0m\u001b[0m\n\u001b[0;32m--> 196\u001b[0;31m         \u001b[0mdataset\u001b[0m \u001b[0;34m=\u001b[0m \u001b[0mLoadStreams\u001b[0m\u001b[0;34m(\u001b[0m\u001b[0msource\u001b[0m\u001b[0;34m,\u001b[0m \u001b[0mvid_stride\u001b[0m\u001b[0;34m=\u001b[0m\u001b[0mvid_stride\u001b[0m\u001b[0;34m,\u001b[0m \u001b[0mbuffer\u001b[0m\u001b[0;34m=\u001b[0m\u001b[0mbuffer\u001b[0m\u001b[0;34m)\u001b[0m\u001b[0;34m\u001b[0m\u001b[0;34m\u001b[0m\u001b[0m\n\u001b[0m\u001b[1;32m    197\u001b[0m     \u001b[0;32melif\u001b[0m \u001b[0mscreenshot\u001b[0m\u001b[0;34m:\u001b[0m\u001b[0;34m\u001b[0m\u001b[0;34m\u001b[0m\u001b[0m\n\u001b[1;32m    198\u001b[0m         \u001b[0mdataset\u001b[0m \u001b[0;34m=\u001b[0m \u001b[0mLoadScreenshots\u001b[0m\u001b[0;34m(\u001b[0m\u001b[0msource\u001b[0m\u001b[0;34m)\u001b[0m\u001b[0;34m\u001b[0m\u001b[0;34m\u001b[0m\u001b[0m\n",
      "\u001b[0;32m/usr/local/lib/python3.10/dist-packages/ultralytics/data/loaders.py\u001b[0m in \u001b[0;36m__init__\u001b[0;34m(self, sources, vid_stride, buffer)\u001b[0m\n\u001b[1;32m    116\u001b[0m             \u001b[0ms\u001b[0m \u001b[0;34m=\u001b[0m \u001b[0meval\u001b[0m\u001b[0;34m(\u001b[0m\u001b[0ms\u001b[0m\u001b[0;34m)\u001b[0m \u001b[0;32mif\u001b[0m \u001b[0ms\u001b[0m\u001b[0;34m.\u001b[0m\u001b[0misnumeric\u001b[0m\u001b[0;34m(\u001b[0m\u001b[0;34m)\u001b[0m \u001b[0;32melse\u001b[0m \u001b[0ms\u001b[0m  \u001b[0;31m# i.e. s = '0' local webcam\u001b[0m\u001b[0;34m\u001b[0m\u001b[0;34m\u001b[0m\u001b[0m\n\u001b[1;32m    117\u001b[0m             \u001b[0;32mif\u001b[0m \u001b[0ms\u001b[0m \u001b[0;34m==\u001b[0m \u001b[0;36m0\u001b[0m \u001b[0;32mand\u001b[0m \u001b[0;34m(\u001b[0m\u001b[0mIS_COLAB\u001b[0m \u001b[0;32mor\u001b[0m \u001b[0mIS_KAGGLE\u001b[0m\u001b[0;34m)\u001b[0m\u001b[0;34m:\u001b[0m\u001b[0;34m\u001b[0m\u001b[0;34m\u001b[0m\u001b[0m\n\u001b[0;32m--> 118\u001b[0;31m                 raise NotImplementedError(\n\u001b[0m\u001b[1;32m    119\u001b[0m                     \u001b[0;34m\"'source=0' webcam not supported in Colab and Kaggle notebooks. \"\u001b[0m\u001b[0;34m\u001b[0m\u001b[0;34m\u001b[0m\u001b[0m\n\u001b[1;32m    120\u001b[0m                     \u001b[0;34m\"Try running 'source=0' in a local environment.\"\u001b[0m\u001b[0;34m\u001b[0m\u001b[0;34m\u001b[0m\u001b[0m\n",
      "\u001b[0;31mNotImplementedError\u001b[0m: 'source=0' webcam not supported in Colab and Kaggle notebooks. Try running 'source=0' in a local environment."
     ]
    }
   ],
   "source": [
    "# All predictions w/ a confidence below 0.7 will be discarded\n",
    "model0 = YOLO(\"/content/drive/MyDrive/YOLOv11_custom/yolov11_custom.pt\")\n",
    "model0.predict(source = \"/content/drive/MyDrive/YOLOv11_custom/BlueSponge_test.mp4\", show=True, save=True, conf=0.7, line_width=2,\n",
    "               save_crop = False, save_txt = False, show_labels = True, show_conf = True, classes=[0])\n",
    "\n"
   ]
  },
  {
   "cell_type": "markdown",
   "metadata": {
    "id": "Ta_8VDYeQAOz"
   },
   "source": [
    "# Cell for Commands"
   ]
  },
  {
   "cell_type": "code",
   "execution_count": null,
   "metadata": {
    "colab": {
     "base_uri": "https://localhost:8080/",
     "height": 362
    },
    "collapsed": true,
    "id": "mFSWamo_DP9C",
    "outputId": "15e3e29b-3ed7-45d1-bc4a-2860e1f8857f"
   },
   "outputs": [
    {
     "ename": "NotImplementedError",
     "evalue": "A UTF-8 locale is required. Got ANSI_X3.4-1968",
     "output_type": "error",
     "traceback": [
      "\u001b[0;31m---------------------------------------------------------------------------\u001b[0m",
      "\u001b[0;31mNotImplementedError\u001b[0m                       Traceback (most recent call last)",
      "\u001b[0;32m<ipython-input-26-f6261130044a>\u001b[0m in \u001b[0;36m<cell line: 3>\u001b[0;34m()\u001b[0m\n\u001b[1;32m      1\u001b[0m \u001b[0;31m# This cell is for commands\u001b[0m\u001b[0;34m\u001b[0m\u001b[0;34m\u001b[0m\u001b[0m\n\u001b[1;32m      2\u001b[0m \u001b[0;31m# !ls /content/drive/Othercomputers/\"My PC\"/Docs/CEN3907C/Capstone-Project/OpenCV/YOLOv11_custom\u001b[0m\u001b[0;34m\u001b[0m\u001b[0;34m\u001b[0m\u001b[0m\n\u001b[0;32m----> 3\u001b[0;31m \u001b[0mget_ipython\u001b[0m\u001b[0;34m(\u001b[0m\u001b[0;34m)\u001b[0m\u001b[0;34m.\u001b[0m\u001b[0msystem\u001b[0m\u001b[0;34m(\u001b[0m\u001b[0;34m'ls /content/drive/MyDrive/YOLOv11_custom'\u001b[0m\u001b[0;34m)\u001b[0m\u001b[0;34m\u001b[0m\u001b[0;34m\u001b[0m\u001b[0m\n\u001b[0m\u001b[1;32m      4\u001b[0m \u001b[0;34m\u001b[0m\u001b[0m\n\u001b[1;32m      5\u001b[0m \u001b[0;31m# Path to file: /content/runs/detect/train3/weights/best.pt\u001b[0m\u001b[0;34m\u001b[0m\u001b[0;34m\u001b[0m\u001b[0m\n",
      "\u001b[0;32m/usr/local/lib/python3.10/dist-packages/google/colab/_shell.py\u001b[0m in \u001b[0;36msystem\u001b[0;34m(self, *args, **kwargs)\u001b[0m\n\u001b[1;32m     97\u001b[0m       \u001b[0mkwargs\u001b[0m\u001b[0;34m.\u001b[0m\u001b[0mupdate\u001b[0m\u001b[0;34m(\u001b[0m\u001b[0;34m{\u001b[0m\u001b[0;34m'also_return_output'\u001b[0m\u001b[0;34m:\u001b[0m \u001b[0;32mTrue\u001b[0m\u001b[0;34m}\u001b[0m\u001b[0;34m)\u001b[0m\u001b[0;34m\u001b[0m\u001b[0;34m\u001b[0m\u001b[0m\n\u001b[1;32m     98\u001b[0m \u001b[0;34m\u001b[0m\u001b[0m\n\u001b[0;32m---> 99\u001b[0;31m     \u001b[0moutput\u001b[0m \u001b[0;34m=\u001b[0m \u001b[0m_system_commands\u001b[0m\u001b[0;34m.\u001b[0m\u001b[0m_system_compat\u001b[0m\u001b[0;34m(\u001b[0m\u001b[0mself\u001b[0m\u001b[0;34m,\u001b[0m \u001b[0;34m*\u001b[0m\u001b[0margs\u001b[0m\u001b[0;34m,\u001b[0m \u001b[0;34m**\u001b[0m\u001b[0mkwargs\u001b[0m\u001b[0;34m)\u001b[0m  \u001b[0;31m# pylint:disable=protected-access\u001b[0m\u001b[0;34m\u001b[0m\u001b[0;34m\u001b[0m\u001b[0m\n\u001b[0m\u001b[1;32m    100\u001b[0m \u001b[0;34m\u001b[0m\u001b[0m\n\u001b[1;32m    101\u001b[0m     \u001b[0;32mif\u001b[0m \u001b[0mpip_warn\u001b[0m\u001b[0;34m:\u001b[0m\u001b[0;34m\u001b[0m\u001b[0;34m\u001b[0m\u001b[0m\n",
      "\u001b[0;32m/usr/local/lib/python3.10/dist-packages/google/colab/_system_commands.py\u001b[0m in \u001b[0;36m_system_compat\u001b[0;34m(shell, cmd, also_return_output)\u001b[0m\n\u001b[1;32m    452\u001b[0m   \u001b[0;31m# is expected to call this function, thus adding one level of nesting to the\u001b[0m\u001b[0;34m\u001b[0m\u001b[0;34m\u001b[0m\u001b[0m\n\u001b[1;32m    453\u001b[0m   \u001b[0;31m# stack.\u001b[0m\u001b[0;34m\u001b[0m\u001b[0;34m\u001b[0m\u001b[0m\n\u001b[0;32m--> 454\u001b[0;31m   result = _run_command(\n\u001b[0m\u001b[1;32m    455\u001b[0m       \u001b[0mshell\u001b[0m\u001b[0;34m.\u001b[0m\u001b[0mvar_expand\u001b[0m\u001b[0;34m(\u001b[0m\u001b[0mcmd\u001b[0m\u001b[0;34m,\u001b[0m \u001b[0mdepth\u001b[0m\u001b[0;34m=\u001b[0m\u001b[0;36m2\u001b[0m\u001b[0;34m)\u001b[0m\u001b[0;34m,\u001b[0m \u001b[0mclear_streamed_output\u001b[0m\u001b[0;34m=\u001b[0m\u001b[0;32mFalse\u001b[0m\u001b[0;34m\u001b[0m\u001b[0;34m\u001b[0m\u001b[0m\n\u001b[1;32m    456\u001b[0m   )\n",
      "\u001b[0;32m/usr/local/lib/python3.10/dist-packages/google/colab/_system_commands.py\u001b[0m in \u001b[0;36m_run_command\u001b[0;34m(cmd, clear_streamed_output)\u001b[0m\n\u001b[1;32m    166\u001b[0m     \u001b[0mlocale_encoding\u001b[0m \u001b[0;34m=\u001b[0m \u001b[0mlocale\u001b[0m\u001b[0;34m.\u001b[0m\u001b[0mgetpreferredencoding\u001b[0m\u001b[0;34m(\u001b[0m\u001b[0;34m)\u001b[0m\u001b[0;34m\u001b[0m\u001b[0;34m\u001b[0m\u001b[0m\n\u001b[1;32m    167\u001b[0m     \u001b[0;32mif\u001b[0m \u001b[0mlocale_encoding\u001b[0m \u001b[0;34m!=\u001b[0m \u001b[0m_ENCODING\u001b[0m\u001b[0;34m:\u001b[0m\u001b[0;34m\u001b[0m\u001b[0;34m\u001b[0m\u001b[0m\n\u001b[0;32m--> 168\u001b[0;31m       raise NotImplementedError(\n\u001b[0m\u001b[1;32m    169\u001b[0m           \u001b[0;34m'A UTF-8 locale is required. Got {}'\u001b[0m\u001b[0;34m.\u001b[0m\u001b[0mformat\u001b[0m\u001b[0;34m(\u001b[0m\u001b[0mlocale_encoding\u001b[0m\u001b[0;34m)\u001b[0m\u001b[0;34m\u001b[0m\u001b[0;34m\u001b[0m\u001b[0m\n\u001b[1;32m    170\u001b[0m       )\n",
      "\u001b[0;31mNotImplementedError\u001b[0m: A UTF-8 locale is required. Got ANSI_X3.4-1968"
     ]
    }
   ],
   "source": [
    "# This cell is for commands\n",
    "# !ls /content/drive/Othercomputers/\"My PC\"/Docs/CEN3907C/Capstone-Project/OpenCV/YOLOv11_custom\n",
    "!ls /content/drive/MyDrive/YOLOv11_custom\n",
    "\n",
    "# Path to file: /content/runs/detect/train3/weights/best.pt\n",
    "# Now it's also in My Drive as: /content/drive/MyDrive/YOLOv11_custom/yolov11_custom.pt\n"
   ]
  },
  {
   "cell_type": "markdown",
   "metadata": {
    "id": "IfpOXHg7Nw2T"
   },
   "source": [
    "# Imports and Setup Script"
   ]
  },
  {
   "cell_type": "code",
   "execution_count": null,
   "metadata": {
    "id": "fTRNsv_fNzSY"
   },
   "outputs": [],
   "source": [
    "import os\n",
    "import torch\n",
    "from google.colab import drive\n",
    "from ultralytics import YOLO\n",
    "\n",
    "print(\"CUDA available:\", torch.cuda.is_available())\n",
    "drive.mount('/content/drive')"
   ]
  },
  {
   "cell_type": "markdown",
   "metadata": {
    "id": "Okruq-8OM8fL"
   },
   "source": [
    "# Overall Script"
   ]
  },
  {
   "cell_type": "code",
   "execution_count": null,
   "metadata": {
    "id": "rP68BbhBNCwd"
   },
   "outputs": [],
   "source": [
    "import os\n",
    "import torch\n",
    "from google.colab import drive\n",
    "from ultralytics import YOLO\n",
    "\n",
    "print(\"CUDA available:\", torch.cuda.is_available())\n",
    "drive.mount('/content/drive')\n",
    "\n",
    "modelPath = \"/content/drive/MyDrive/YOLOv11_custom/yolo11m.pt\"\n",
    "model = YOLO(modelPath)\n",
    "\n",
    "datasetPath = \"/content/drive/MyDrive/YOLOv11_custom/dataset_custom.yaml\"\n",
    "model.train(data = datasetPath, imgsz = 640, batch = 8, epochs = 100, workers = 0, device=0)\n",
    "\n",
    "# Saving a prediction image with a bounding box around it\n",
    "model0 = YOLO(\"/content/drive/MyDrive/YOLOv11_custom/yolov11_custom.pt\")\n",
    "model0.predict(source = \"/content/drive/MyDrive/YOLOv11_custom/one.JPG\", show=True, save=True)\n",
    "\n"
   ]
  }
 ],
 "metadata": {
  "accelerator": "GPU",
  "colab": {
   "gpuType": "T4",
   "provenance": []
  },
  "kernelspec": {
   "display_name": "Python 3",
   "name": "python3"
  },
  "language_info": {
   "name": "python"
  }
 },
 "nbformat": 4,
 "nbformat_minor": 0
}
